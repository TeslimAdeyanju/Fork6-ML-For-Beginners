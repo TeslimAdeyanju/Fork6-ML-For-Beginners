{
  "cells": [
    {
      "cell_type": "markdown",
      "metadata": {
        "id": "YJUHCXqK57yz"
      },
      "source": [
        "# Build a regression model: Get started with R and Tidymodels for regression models"
      ]
    },
    {
      "cell_type": "markdown",
      "metadata": {
        "id": "LWNNzfqd6feZ"
      },
      "source": [
        "## Introduction to Regression - Lesson 1\n",
        "\n",
        "#### Putting it into perspective\n",
        "\n",
        "✅ There are many types of regression methods, and which one you pick depends on the answer you're looking for. If you want to predict the probable height for a person of a given age, you'd use `linear regression`, as you're seeking a **numeric value**. If you're interested in discovering whether a type of cuisine should be considered vegan or not, you're looking for a **category assignment** so you would use `logistic regression`. You'll learn more about logistic regression later. Think a bit about some questions you can ask of data, and which of these methods would be more appropriate.\n",
        "\n",
        "In this section, you will work with a [small dataset about diabetes](https://www4.stat.ncsu.edu/~boos/var.select/diabetes.html). Imagine that you wanted to test a treatment for diabetic patients. Machine Learning models might help you determine which patients would respond better to the treatment, based on combinations of variables. Even a very basic regression model, when visualized, might show information about variables that would help you organize your theoretical clinical trials.\n",
        "\n",
        "That said, let's get started on this task!\n",
        "\n",
        "<p >\n",
        "   <img src=\"../../images/encouRage.jpg\"\n",
        "   width=\"630\"/>\n",
        "   <figcaption>Artwork by @allison_horst</figcaption>\n",
        "\n",
        "<!--![Artwork by \\@allison_horst](../../images/encouRage.jpg)<br>Artwork by @allison_horst-->"
      ]
    },
    {
      "cell_type": "markdown",
      "metadata": {
        "id": "FIo2YhO26wI9"
      },
      "source": [
        "## 1. Loading up our tool set\n",
        "\n",
        "For this task, we'll require the following packages:\n",
        "\n",
        "-   `tidyverse`: The [tidyverse](https://www.tidyverse.org/) is a [collection of R packages](https://www.tidyverse.org/packages) designed to makes data science faster, easier and more fun!\n",
        "\n",
        "-   `tidymodels`: The [tidymodels](https://www.tidymodels.org/) framework is a [collection of packages](https://www.tidymodels.org/packages/) for modeling and machine learning.\n",
        "\n",
        "You can have them installed as:\n",
        "\n",
        "`install.packages(c(\"tidyverse\", \"tidymodels\"))`\n",
        "\n",
        "The script below checks whether you have the packages required to complete this module and installs them for you in case some are missing."
      ]
    },
    {
      "cell_type": "code",
      "execution_count": 1,
      "metadata": {
        "colab": {
          "base_uri": "https://localhost:8080/"
        },
        "id": "cIA9fz9v7Dss",
        "outputId": "2df7073b-86b2-4b32-cb86-0da605a0dc11",
        "vscode": {
          "languageId": "r"
        }
      },
      "outputs": [
        {
          "name": "stderr",
          "output_type": "stream",
          "text": [
            "Loading required package: pacman\n",
            "\n"
          ]
        },
        {
          "name": "stdout",
          "output_type": "stream",
          "text": [
            "\n",
            "The downloaded binary packages are in\n",
            "\t/var/folders/v9/v9j8bf6j2r5cr97thvfgxxyh0000gn/T//RtmpS9ahAN/downloaded_packages\n"
          ]
        }
      ],
      "source": [
        "suppressWarnings(if (!require(\"pacman\")) install.packages(\"pacman\"))\n",
        "pacman::p_load(tidyverse, tidymodels)"
      ]
    },
    {
      "cell_type": "markdown",
      "metadata": {
        "id": "gpO_P_6f9WUG"
      },
      "source": [
        "Now, let's load these awesome packages and make them available in our current R session.(This is for mere illustration, `pacman::p_load()` already did that for you)"
      ]
    },
    {
      "cell_type": "code",
      "execution_count": 3,
      "metadata": {
        "id": "NLMycgG-9ezO",
        "vscode": {
          "languageId": "r"
        }
      },
      "outputs": [],
      "source": [
        "# load the core Tidyverse packages\n",
        "library(tidyverse)\n",
        "\n",
        "# load the core Tidymodels packages\n",
        "library(tidymodels)\n"
      ]
    },
    {
      "cell_type": "markdown",
      "metadata": {
        "id": "KM6iXLH996Cl"
      },
      "source": [
        "## 2. The diabetes dataset\n",
        "\n",
        "In this exercise, we'll put our regression skills into display by making predictions on a diabetes dataset. The [diabetes dataset](https://www4.stat.ncsu.edu/~boos/var.select/diabetes.rwrite1.txt) includes `442 samples` of data around diabetes, with 10 predictor feature variables, `age`, `sex`, `body mass index`, `average blood pressure`, and `six blood serum measurements` as well as an outcome variable `y`: a quantitative measure of disease progression one year after baseline.\n",
        "\n",
        "|Number of observations|442|\n",
        "|----------------------|:---|\n",
        "|Number of predictors|First 10 columns are numeric predictive|\n",
        "|Outcome/Target|Column 11 is a quantitative measure of disease progression one year after baseline|\n",
        "|Predictor Information|- age in years\n",
        "||- sex\n",
        "||- bmi body mass index\n",
        "||- bp average blood pressure\n",
        "||- s1 tc, total serum cholesterol\n",
        "||- s2 ldl, low-density lipoproteins\n",
        "||- s3 hdl, high-density lipoproteins\n",
        "||- s4 tch, total cholesterol / HDL\n",
        "||- s5 ltg, possibly log of serum triglycerides level\n",
        "||- s6 glu, blood sugar level|\n",
        "\n",
        "\n",
        "\n",
        "\n",
        "> 🎓 Remember, this is supervised learning, and we need a named 'y' target.\n",
        "\n",
        "Before you can manipulate data with R, you need to import the data into R's memory, or build a connection to the data that R can use to access the data remotely.\n",
        "\n",
        "> The [readr](https://readr.tidyverse.org/) package, which is part of the Tidyverse, provides a fast and friendly way to read rectangular data into R.\n",
        "\n",
        "Now, let's load the diabetes dataset provided in this source URL: <https://www4.stat.ncsu.edu/~boos/var.select/diabetes.html>\n",
        "\n",
        "Also, we'll perform a sanity check on our data using `glimpse()` and display the first 5 rows using `slice()`.\n",
        "\n",
        "Before going any further, let's also introduce something you will encounter often in R code 🥁🥁: the pipe operator `%>%`\n",
        "\n",
        "The pipe operator (`%>%`) performs operations in logical sequence by passing an object forward into a function or call expression. You can think of the pipe operator as saying \"and then\" in your code."
      ]
    },
    {
      "cell_type": "code",
      "execution_count": 4,
      "metadata": {
        "id": "Z1geAMhM-bSP",
        "vscode": {
          "languageId": "r"
        }
      },
      "outputs": [
        {
          "name": "stderr",
          "output_type": "stream",
          "text": [
            "Warning message:\n",
            "\"\u001b[1m\u001b[22m`read_table2()` was deprecated in readr 2.0.0.\n",
            "\u001b[36mi\u001b[39m Please use `read_table()` instead.\"\n",
            "\n",
            "\u001b[36m--\u001b[39m \u001b[1mColumn specification\u001b[22m \u001b[36m--------------------------------------------------------\u001b[39m\n",
            "cols(\n",
            "  age = \u001b[32mcol_double()\u001b[39m,\n",
            "  sex = \u001b[32mcol_double()\u001b[39m,\n",
            "  bmi = \u001b[32mcol_double()\u001b[39m,\n",
            "  map = \u001b[32mcol_double()\u001b[39m,\n",
            "  tc = \u001b[32mcol_double()\u001b[39m,\n",
            "  ldl = \u001b[32mcol_double()\u001b[39m,\n",
            "  hdl = \u001b[32mcol_double()\u001b[39m,\n",
            "  tch = \u001b[32mcol_double()\u001b[39m,\n",
            "  ltg = \u001b[32mcol_double()\u001b[39m,\n",
            "  glu = \u001b[32mcol_double()\u001b[39m,\n",
            "  y = \u001b[32mcol_double()\u001b[39m\n",
            ")\n",
            "\n"
          ]
        },
        {
          "name": "stdout",
          "output_type": "stream",
          "text": [
            "Rows: 442\n",
            "Columns: 11\n",
            "$ age \u001b[3m\u001b[90m<dbl>\u001b[39m\u001b[23m 0.038075906, -0.001882017, 0.085298906, -0.089062939, 0.005383060,~\n",
            "$ sex \u001b[3m\u001b[90m<dbl>\u001b[39m\u001b[23m 0.05068012, -0.04464164, 0.05068012, -0.04464164, -0.04464164, -0.~\n",
            "$ bmi \u001b[3m\u001b[90m<dbl>\u001b[39m\u001b[23m 0.061696207, -0.051474061, 0.044451213, -0.011595015, -0.036384692~\n",
            "$ map \u001b[3m\u001b[90m<dbl>\u001b[39m\u001b[23m 0.021872355, -0.026327835, -0.005670611, -0.036656447, 0.021872355~\n",
            "$ tc  \u001b[3m\u001b[90m<dbl>\u001b[39m\u001b[23m -0.044223498, -0.008448724, -0.045599451, 0.012190569, 0.003934852~\n",
            "$ ldl \u001b[3m\u001b[90m<dbl>\u001b[39m\u001b[23m -3.482076e-02, -1.916334e-02, -3.419447e-02, 2.499059e-02, 1.55961~\n",
            "$ hdl \u001b[3m\u001b[90m<dbl>\u001b[39m\u001b[23m -0.043400846, 0.074411564, -0.032355932, -0.036037570, 0.008142084~\n",
            "$ tch \u001b[3m\u001b[90m<dbl>\u001b[39m\u001b[23m -0.002592262, -0.039493383, -0.002592262, 0.034308859, -0.00259226~\n",
            "$ ltg \u001b[3m\u001b[90m<dbl>\u001b[39m\u001b[23m 0.019908421, -0.068329744, 0.002863771, 0.022692023, -0.031991445,~\n",
            "$ glu \u001b[3m\u001b[90m<dbl>\u001b[39m\u001b[23m -0.017646125, -0.092204050, -0.025930339, -0.009361911, -0.0466408~\n",
            "$ y   \u001b[3m\u001b[90m<dbl>\u001b[39m\u001b[23m 151, 75, 141, 206, 135, 97, 138, 63, 110, 310, 101, 69, 179, 185, ~\n"
          ]
        },
        {
          "data": {
            "text/html": [
              "<table class=\"dataframe\">\n",
              "<caption>A spec_tbl_df: 5 x 11</caption>\n",
              "<thead>\n",
              "\t<tr><th scope=col>age</th><th scope=col>sex</th><th scope=col>bmi</th><th scope=col>map</th><th scope=col>tc</th><th scope=col>ldl</th><th scope=col>hdl</th><th scope=col>tch</th><th scope=col>ltg</th><th scope=col>glu</th><th scope=col>y</th></tr>\n",
              "\t<tr><th scope=col>&lt;dbl&gt;</th><th scope=col>&lt;dbl&gt;</th><th scope=col>&lt;dbl&gt;</th><th scope=col>&lt;dbl&gt;</th><th scope=col>&lt;dbl&gt;</th><th scope=col>&lt;dbl&gt;</th><th scope=col>&lt;dbl&gt;</th><th scope=col>&lt;dbl&gt;</th><th scope=col>&lt;dbl&gt;</th><th scope=col>&lt;dbl&gt;</th><th scope=col>&lt;dbl&gt;</th></tr>\n",
              "</thead>\n",
              "<tbody>\n",
              "\t<tr><td> 0.038075906</td><td> 0.05068012</td><td> 0.06169621</td><td> 0.021872355</td><td>-0.044223498</td><td>-0.03482076</td><td>-0.043400846</td><td>-0.002592262</td><td> 0.019908421</td><td>-0.017646125</td><td>151</td></tr>\n",
              "\t<tr><td>-0.001882017</td><td>-0.04464164</td><td>-0.05147406</td><td>-0.026327835</td><td>-0.008448724</td><td>-0.01916334</td><td> 0.074411564</td><td>-0.039493383</td><td>-0.068329744</td><td>-0.092204050</td><td> 75</td></tr>\n",
              "\t<tr><td> 0.085298906</td><td> 0.05068012</td><td> 0.04445121</td><td>-0.005670611</td><td>-0.045599451</td><td>-0.03419447</td><td>-0.032355932</td><td>-0.002592262</td><td> 0.002863771</td><td>-0.025930339</td><td>141</td></tr>\n",
              "\t<tr><td>-0.089062939</td><td>-0.04464164</td><td>-0.01159501</td><td>-0.036656447</td><td> 0.012190569</td><td> 0.02499059</td><td>-0.036037570</td><td> 0.034308859</td><td> 0.022692023</td><td>-0.009361911</td><td>206</td></tr>\n",
              "\t<tr><td> 0.005383060</td><td>-0.04464164</td><td>-0.03638469</td><td> 0.021872355</td><td> 0.003934852</td><td> 0.01559614</td><td> 0.008142084</td><td>-0.002592262</td><td>-0.031991445</td><td>-0.046640874</td><td>135</td></tr>\n",
              "</tbody>\n",
              "</table>\n"
            ],
            "text/latex": [
              "A spec\\_tbl\\_df: 5 x 11\n",
              "\\begin{tabular}{lllllllllll}\n",
              " age & sex & bmi & map & tc & ldl & hdl & tch & ltg & glu & y\\\\\n",
              " <dbl> & <dbl> & <dbl> & <dbl> & <dbl> & <dbl> & <dbl> & <dbl> & <dbl> & <dbl> & <dbl>\\\\\n",
              "\\hline\n",
              "\t  0.038075906 &  0.05068012 &  0.06169621 &  0.021872355 & -0.044223498 & -0.03482076 & -0.043400846 & -0.002592262 &  0.019908421 & -0.017646125 & 151\\\\\n",
              "\t -0.001882017 & -0.04464164 & -0.05147406 & -0.026327835 & -0.008448724 & -0.01916334 &  0.074411564 & -0.039493383 & -0.068329744 & -0.092204050 &  75\\\\\n",
              "\t  0.085298906 &  0.05068012 &  0.04445121 & -0.005670611 & -0.045599451 & -0.03419447 & -0.032355932 & -0.002592262 &  0.002863771 & -0.025930339 & 141\\\\\n",
              "\t -0.089062939 & -0.04464164 & -0.01159501 & -0.036656447 &  0.012190569 &  0.02499059 & -0.036037570 &  0.034308859 &  0.022692023 & -0.009361911 & 206\\\\\n",
              "\t  0.005383060 & -0.04464164 & -0.03638469 &  0.021872355 &  0.003934852 &  0.01559614 &  0.008142084 & -0.002592262 & -0.031991445 & -0.046640874 & 135\\\\\n",
              "\\end{tabular}\n"
            ],
            "text/markdown": [
              "\n",
              "A spec_tbl_df: 5 x 11\n",
              "\n",
              "| age &lt;dbl&gt; | sex &lt;dbl&gt; | bmi &lt;dbl&gt; | map &lt;dbl&gt; | tc &lt;dbl&gt; | ldl &lt;dbl&gt; | hdl &lt;dbl&gt; | tch &lt;dbl&gt; | ltg &lt;dbl&gt; | glu &lt;dbl&gt; | y &lt;dbl&gt; |\n",
              "|---|---|---|---|---|---|---|---|---|---|---|\n",
              "|  0.038075906 |  0.05068012 |  0.06169621 |  0.021872355 | -0.044223498 | -0.03482076 | -0.043400846 | -0.002592262 |  0.019908421 | -0.017646125 | 151 |\n",
              "| -0.001882017 | -0.04464164 | -0.05147406 | -0.026327835 | -0.008448724 | -0.01916334 |  0.074411564 | -0.039493383 | -0.068329744 | -0.092204050 |  75 |\n",
              "|  0.085298906 |  0.05068012 |  0.04445121 | -0.005670611 | -0.045599451 | -0.03419447 | -0.032355932 | -0.002592262 |  0.002863771 | -0.025930339 | 141 |\n",
              "| -0.089062939 | -0.04464164 | -0.01159501 | -0.036656447 |  0.012190569 |  0.02499059 | -0.036037570 |  0.034308859 |  0.022692023 | -0.009361911 | 206 |\n",
              "|  0.005383060 | -0.04464164 | -0.03638469 |  0.021872355 |  0.003934852 |  0.01559614 |  0.008142084 | -0.002592262 | -0.031991445 | -0.046640874 | 135 |\n",
              "\n"
            ],
            "text/plain": [
              "  age          sex         bmi         map          tc           ldl        \n",
              "1  0.038075906  0.05068012  0.06169621  0.021872355 -0.044223498 -0.03482076\n",
              "2 -0.001882017 -0.04464164 -0.05147406 -0.026327835 -0.008448724 -0.01916334\n",
              "3  0.085298906  0.05068012  0.04445121 -0.005670611 -0.045599451 -0.03419447\n",
              "4 -0.089062939 -0.04464164 -0.01159501 -0.036656447  0.012190569  0.02499059\n",
              "5  0.005383060 -0.04464164 -0.03638469  0.021872355  0.003934852  0.01559614\n",
              "  hdl          tch          ltg          glu          y  \n",
              "1 -0.043400846 -0.002592262  0.019908421 -0.017646125 151\n",
              "2  0.074411564 -0.039493383 -0.068329744 -0.092204050  75\n",
              "3 -0.032355932 -0.002592262  0.002863771 -0.025930339 141\n",
              "4 -0.036037570  0.034308859  0.022692023 -0.009361911 206\n",
              "5  0.008142084 -0.002592262 -0.031991445 -0.046640874 135"
            ]
          },
          "metadata": {},
          "output_type": "display_data"
        }
      ],
      "source": [
        "# Import the data set\n",
        "diabetes <- read_table2(file = \"https://www4.stat.ncsu.edu/~boos/var.select/diabetes.rwrite1.txt\")\n",
        "\n",
        "\n",
        "# Get a glimpse and dimensions of the data\n",
        "glimpse(diabetes)\n",
        "\n",
        "\n",
        "# Select the first 5 rows of the data\n",
        "diabetes %>%\n",
        "  slice(1:5)"
      ]
    },
    {
      "cell_type": "markdown",
      "metadata": {
        "id": "UwjVT1Hz-c3Z"
      },
      "source": [
        "`glimpse()` shows us that this data has 442 rows and 11 columns with all the columns being of data type `double` \n",
        "\n",
        "<br>\n",
        "\n",
        "\n",
        "\n",
        "> glimpse() and slice() are functions in [`dplyr`](https://dplyr.tidyverse.org/). Dplyr, part of the Tidyverse, is a grammar of data manipulation that provides a consistent set of verbs that help you solve the most common data manipulation challenges\n",
        "\n",
        "<br>\n",
        "\n",
        "Now that we have the data, let's narrow down to one feature (`bmi`) to target for this exercise. This will require us to select the desired columns. So, how do we do this?\n",
        "\n",
        "[`dplyr::select()`](https://dplyr.tidyverse.org/reference/select.html) allows us to *select* (and optionally rename) columns in a data frame."
      ]
    },
    {
      "cell_type": "code",
      "execution_count": 5,
      "metadata": {
        "id": "RDY1oAKI-m80",
        "vscode": {
          "languageId": "r"
        }
      },
      "outputs": [
        {
          "data": {
            "text/html": [
              "<table class=\"dataframe\">\n",
              "<caption>A tibble: 10 x 2</caption>\n",
              "<thead>\n",
              "\t<tr><th scope=col>bmi</th><th scope=col>y</th></tr>\n",
              "\t<tr><th scope=col>&lt;dbl&gt;</th><th scope=col>&lt;dbl&gt;</th></tr>\n",
              "</thead>\n",
              "<tbody>\n",
              "\t<tr><td> 0.061696207</td><td>151</td></tr>\n",
              "\t<tr><td>-0.051474061</td><td> 75</td></tr>\n",
              "\t<tr><td> 0.044451213</td><td>141</td></tr>\n",
              "\t<tr><td>-0.011595015</td><td>206</td></tr>\n",
              "\t<tr><td>-0.036384692</td><td>135</td></tr>\n",
              "\t<tr><td>-0.040695940</td><td> 97</td></tr>\n",
              "\t<tr><td>-0.047162813</td><td>138</td></tr>\n",
              "\t<tr><td>-0.001894706</td><td> 63</td></tr>\n",
              "\t<tr><td> 0.061696207</td><td>110</td></tr>\n",
              "\t<tr><td> 0.039062153</td><td>310</td></tr>\n",
              "</tbody>\n",
              "</table>\n"
            ],
            "text/latex": [
              "A tibble: 10 x 2\n",
              "\\begin{tabular}{ll}\n",
              " bmi & y\\\\\n",
              " <dbl> & <dbl>\\\\\n",
              "\\hline\n",
              "\t  0.061696207 & 151\\\\\n",
              "\t -0.051474061 &  75\\\\\n",
              "\t  0.044451213 & 141\\\\\n",
              "\t -0.011595015 & 206\\\\\n",
              "\t -0.036384692 & 135\\\\\n",
              "\t -0.040695940 &  97\\\\\n",
              "\t -0.047162813 & 138\\\\\n",
              "\t -0.001894706 &  63\\\\\n",
              "\t  0.061696207 & 110\\\\\n",
              "\t  0.039062153 & 310\\\\\n",
              "\\end{tabular}\n"
            ],
            "text/markdown": [
              "\n",
              "A tibble: 10 x 2\n",
              "\n",
              "| bmi &lt;dbl&gt; | y &lt;dbl&gt; |\n",
              "|---|---|\n",
              "|  0.061696207 | 151 |\n",
              "| -0.051474061 |  75 |\n",
              "|  0.044451213 | 141 |\n",
              "| -0.011595015 | 206 |\n",
              "| -0.036384692 | 135 |\n",
              "| -0.040695940 |  97 |\n",
              "| -0.047162813 | 138 |\n",
              "| -0.001894706 |  63 |\n",
              "|  0.061696207 | 110 |\n",
              "|  0.039062153 | 310 |\n",
              "\n"
            ],
            "text/plain": [
              "   bmi          y  \n",
              "1   0.061696207 151\n",
              "2  -0.051474061  75\n",
              "3   0.044451213 141\n",
              "4  -0.011595015 206\n",
              "5  -0.036384692 135\n",
              "6  -0.040695940  97\n",
              "7  -0.047162813 138\n",
              "8  -0.001894706  63\n",
              "9   0.061696207 110\n",
              "10  0.039062153 310"
            ]
          },
          "metadata": {},
          "output_type": "display_data"
        }
      ],
      "source": [
        "# Select predictor feature `bmi` and outcome `y`\n",
        "diabetes_select <- diabetes %>%\n",
        "  select(c(bmi, y))\n",
        "\n",
        "# Print the first 5 rows\n",
        "diabetes_select %>%\n",
        "  slice(1:10)"
      ]
    },
    {
      "cell_type": "markdown",
      "metadata": {
        "id": "SDk668xK-tc3"
      },
      "source": [
        "## 3. Training and Testing data\n",
        "\n",
        "It's common practice in supervised learning to *split* the data into two subsets; a (typically larger) set with which to train the model, and a smaller \"hold-back\" set with which to see how the model performed.\n",
        "\n",
        "Now that we have data ready, we can see if a machine can help determine a logical split between the numbers in this dataset. We can use the [rsample](https://tidymodels.github.io/rsample/) package, which is part of the Tidymodels framework, to create an object that contains the information on *how* to split the data, and then two more rsample functions to extract the created training and testing sets:\n"
      ]
    },
    {
      "cell_type": "code",
      "execution_count": 6,
      "metadata": {
        "id": "EqtHx129-1h-",
        "vscode": {
          "languageId": "r"
        }
      },
      "outputs": [
        {
          "data": {
            "text/html": [
              "<table class=\"dataframe\">\n",
              "<caption>A tibble: 10 x 2</caption>\n",
              "<thead>\n",
              "\t<tr><th scope=col>bmi</th><th scope=col>y</th></tr>\n",
              "\t<tr><th scope=col>&lt;dbl&gt;</th><th scope=col>&lt;dbl&gt;</th></tr>\n",
              "</thead>\n",
              "<tbody>\n",
              "\t<tr><td>-0.05362969</td><td> 83</td></tr>\n",
              "\t<tr><td>-0.02345095</td><td>144</td></tr>\n",
              "\t<tr><td>-0.06440781</td><td>170</td></tr>\n",
              "\t<tr><td>-0.01051720</td><td> 25</td></tr>\n",
              "\t<tr><td> 0.04768465</td><td>317</td></tr>\n",
              "\t<tr><td> 0.03151747</td><td>296</td></tr>\n",
              "\t<tr><td>-0.02560657</td><td>170</td></tr>\n",
              "\t<tr><td>-0.06117437</td><td> 89</td></tr>\n",
              "\t<tr><td>-0.03961813</td><td>124</td></tr>\n",
              "\t<tr><td>-0.05470750</td><td>143</td></tr>\n",
              "</tbody>\n",
              "</table>\n"
            ],
            "text/latex": [
              "A tibble: 10 x 2\n",
              "\\begin{tabular}{ll}\n",
              " bmi & y\\\\\n",
              " <dbl> & <dbl>\\\\\n",
              "\\hline\n",
              "\t -0.05362969 &  83\\\\\n",
              "\t -0.02345095 & 144\\\\\n",
              "\t -0.06440781 & 170\\\\\n",
              "\t -0.01051720 &  25\\\\\n",
              "\t  0.04768465 & 317\\\\\n",
              "\t  0.03151747 & 296\\\\\n",
              "\t -0.02560657 & 170\\\\\n",
              "\t -0.06117437 &  89\\\\\n",
              "\t -0.03961813 & 124\\\\\n",
              "\t -0.05470750 & 143\\\\\n",
              "\\end{tabular}\n"
            ],
            "text/markdown": [
              "\n",
              "A tibble: 10 x 2\n",
              "\n",
              "| bmi &lt;dbl&gt; | y &lt;dbl&gt; |\n",
              "|---|---|\n",
              "| -0.05362969 |  83 |\n",
              "| -0.02345095 | 144 |\n",
              "| -0.06440781 | 170 |\n",
              "| -0.01051720 |  25 |\n",
              "|  0.04768465 | 317 |\n",
              "|  0.03151747 | 296 |\n",
              "| -0.02560657 | 170 |\n",
              "| -0.06117437 |  89 |\n",
              "| -0.03961813 | 124 |\n",
              "| -0.05470750 | 143 |\n",
              "\n"
            ],
            "text/plain": [
              "   bmi         y  \n",
              "1  -0.05362969  83\n",
              "2  -0.02345095 144\n",
              "3  -0.06440781 170\n",
              "4  -0.01051720  25\n",
              "5   0.04768465 317\n",
              "6   0.03151747 296\n",
              "7  -0.02560657 170\n",
              "8  -0.06117437  89\n",
              "9  -0.03961813 124\n",
              "10 -0.05470750 143"
            ]
          },
          "metadata": {},
          "output_type": "display_data"
        }
      ],
      "source": [
        "set.seed(2056)\n",
        "# Split 67% of the data for training and the rest for tesing\n",
        "diabetes_split <- diabetes_select %>%\n",
        "  initial_split(prop = 0.67)\n",
        "\n",
        "# Extract the resulting train and test sets\n",
        "diabetes_train <- training(diabetes_split)\n",
        "diabetes_test <- testing(diabetes_split)\n",
        "\n",
        "# Print the first 3 rows of the training set\n",
        "diabetes_train %>%\n",
        "  slice(1:10)"
      ]
    },
    {
      "cell_type": "markdown",
      "metadata": {
        "id": "sBOS-XhB-6v7"
      },
      "source": [
        "## 4. Train a linear regression model with Tidymodels\n",
        "\n",
        "Now we are ready to train our model!\n",
        "\n",
        "In Tidymodels, you specify models using `parsnip()` by specifying three concepts:\n",
        "\n",
        "-   Model **type** differentiates models such as linear regression, logistic regression, decision tree models, and so forth.\n",
        "\n",
        "-   Model **mode** includes common options like regression and classification; some model types support either of these while some only have one mode.\n",
        "\n",
        "-   Model **engine** is the computational tool which will be used to fit the model. Often these are R packages, such as **`\"lm\"`** or **`\"ranger\"`**\n",
        "\n",
        "This modeling information is captured in a model specification, so let's build one!"
      ]
    },
    {
      "cell_type": "code",
      "execution_count": 7,
      "metadata": {
        "id": "20OwEw20--t3",
        "vscode": {
          "languageId": "r"
        }
      },
      "outputs": [
        {
          "data": {
            "text/plain": [
              "Linear Regression Model Specification (regression)\n",
              "\n",
              "Computational engine: lm \n"
            ]
          },
          "metadata": {},
          "output_type": "display_data"
        }
      ],
      "source": [
        "# Build a linear model specification\n",
        "lm_spec <-\n",
        "  # Type\n",
        "  linear_reg() %>%\n",
        "  # Engine\n",
        "  set_engine(\"lm\") %>%\n",
        "  # Mode\n",
        "  set_mode(\"regression\")\n",
        "\n",
        "\n",
        "# Print the model specification\n",
        "lm_spec"
      ]
    },
    {
      "cell_type": "markdown",
      "metadata": {
        "id": "_oDHs89k_CJj"
      },
      "source": [
        "After a model has been *specified*, the model can be `estimated` or `trained` using the [`fit()`](https://parsnip.tidymodels.org/reference/fit.html) function, typically using a formula and some data.\n",
        "\n",
        "`y ~ .` means we'll fit `y` as the predicted quantity/target, explained by all the predictors/features ie, `.` (in this case, we only have one predictor: `bmi` )"
      ]
    },
    {
      "cell_type": "code",
      "execution_count": 8,
      "metadata": {
        "id": "YlsHqd-q_GJQ",
        "vscode": {
          "languageId": "r"
        }
      },
      "outputs": [
        {
          "data": {
            "text/plain": [
              "parsnip model object\n",
              "\n",
              "\n",
              "Call:\n",
              "stats::lm(formula = y ~ ., data = data)\n",
              "\n",
              "Coefficients:\n",
              "(Intercept)          bmi  \n",
              "      154.7        996.3  \n"
            ]
          },
          "metadata": {},
          "output_type": "display_data"
        }
      ],
      "source": [
        "# Build a linear model specification\n",
        "lm_spec <- linear_reg() %>%\n",
        "  set_engine(\"lm\") %>%\n",
        "  set_mode(\"regression\")\n",
        "\n",
        "\n",
        "# Train a linear regression model\n",
        "lm_mod <- lm_spec %>%\n",
        "  fit(y ~ ., data = diabetes_train)\n",
        "\n",
        "# Print the model\n",
        "lm_mod"
      ]
    },
    {
      "cell_type": "markdown",
      "metadata": {
        "id": "kGZ22RQj_Olu"
      },
      "source": [
        "From the model output, we can see the coefficients learned during training. They represent the coefficients of the line of best fit that gives us the lowest overall error between the actual and predicted variable.\n",
        "<br>\n",
        "\n",
        "## 5. Make predictions on the test set\n",
        "\n",
        "Now that we've trained a model, we can use it to predict the disease progression y for the test dataset using [parsnip::predict()](https://parsnip.tidymodels.org/reference/predict.model_fit.html). This will be used to draw the line between data groups."
      ]
    },
    {
      "cell_type": "code",
      "execution_count": 9,
      "metadata": {
        "id": "nXHbY7M2_aao",
        "vscode": {
          "languageId": "r"
        }
      },
      "outputs": [
        {
          "data": {
            "text/html": [
              "<table class=\"dataframe\">\n",
              "<caption>A tibble: 5 x 1</caption>\n",
              "<thead>\n",
              "\t<tr><th scope=col>.pred</th></tr>\n",
              "\t<tr><th scope=col>&lt;dbl&gt;</th></tr>\n",
              "</thead>\n",
              "<tbody>\n",
              "\t<tr><td>216.1699</td></tr>\n",
              "\t<tr><td>198.9894</td></tr>\n",
              "\t<tr><td>114.1605</td></tr>\n",
              "\t<tr><td>107.7178</td></tr>\n",
              "\t<tr><td>136.7100</td></tr>\n",
              "</tbody>\n",
              "</table>\n"
            ],
            "text/latex": [
              "A tibble: 5 x 1\n",
              "\\begin{tabular}{l}\n",
              " .pred\\\\\n",
              " <dbl>\\\\\n",
              "\\hline\n",
              "\t 216.1699\\\\\n",
              "\t 198.9894\\\\\n",
              "\t 114.1605\\\\\n",
              "\t 107.7178\\\\\n",
              "\t 136.7100\\\\\n",
              "\\end{tabular}\n"
            ],
            "text/markdown": [
              "\n",
              "A tibble: 5 x 1\n",
              "\n",
              "| .pred &lt;dbl&gt; |\n",
              "|---|\n",
              "| 216.1699 |\n",
              "| 198.9894 |\n",
              "| 114.1605 |\n",
              "| 107.7178 |\n",
              "| 136.7100 |\n",
              "\n"
            ],
            "text/plain": [
              "  .pred   \n",
              "1 216.1699\n",
              "2 198.9894\n",
              "3 114.1605\n",
              "4 107.7178\n",
              "5 136.7100"
            ]
          },
          "metadata": {},
          "output_type": "display_data"
        }
      ],
      "source": [
        "# Make predictions for the test set\n",
        "predictions <- lm_mod %>%\n",
        "  predict(new_data = diabetes_test)\n",
        "\n",
        "# Print out some of the predictions\n",
        "predictions %>%\n",
        "  slice(1:5)"
      ]
    },
    {
      "cell_type": "markdown",
      "metadata": {
        "id": "R_JstwUY_bIs"
      },
      "source": [
        "Woohoo! 💃🕺 We just trained a model and used it to make predictions!\n",
        "\n",
        "When making predictions, the tidymodels convention is to always produce a tibble/data frame of results with standardized column names. This makes it easy to combine the original data and the predictions in a usable format for subsequent operations such as plotting.\n",
        "\n",
        "`dplyr::bind_cols()` efficiently binds multiple data frames column."
      ]
    },
    {
      "cell_type": "code",
      "execution_count": 10,
      "metadata": {
        "id": "RybsMJR7_iI8",
        "vscode": {
          "languageId": "r"
        }
      },
      "outputs": [
        {
          "data": {
            "text/html": [
              "<table class=\"dataframe\">\n",
              "<caption>A tibble: 5 x 3</caption>\n",
              "<thead>\n",
              "\t<tr><th scope=col>bmi</th><th scope=col>y</th><th scope=col>.pred</th></tr>\n",
              "\t<tr><th scope=col>&lt;dbl&gt;</th><th scope=col>&lt;dbl&gt;</th><th scope=col>&lt;dbl&gt;</th></tr>\n",
              "</thead>\n",
              "<tbody>\n",
              "\t<tr><td> 0.06169621</td><td>151</td><td>216.1699</td></tr>\n",
              "\t<tr><td> 0.04445121</td><td>141</td><td>198.9894</td></tr>\n",
              "\t<tr><td>-0.04069594</td><td> 97</td><td>114.1605</td></tr>\n",
              "\t<tr><td>-0.04716281</td><td>138</td><td>107.7178</td></tr>\n",
              "\t<tr><td>-0.01806189</td><td>168</td><td>136.7100</td></tr>\n",
              "</tbody>\n",
              "</table>\n"
            ],
            "text/latex": [
              "A tibble: 5 x 3\n",
              "\\begin{tabular}{lll}\n",
              " bmi & y & .pred\\\\\n",
              " <dbl> & <dbl> & <dbl>\\\\\n",
              "\\hline\n",
              "\t  0.06169621 & 151 & 216.1699\\\\\n",
              "\t  0.04445121 & 141 & 198.9894\\\\\n",
              "\t -0.04069594 &  97 & 114.1605\\\\\n",
              "\t -0.04716281 & 138 & 107.7178\\\\\n",
              "\t -0.01806189 & 168 & 136.7100\\\\\n",
              "\\end{tabular}\n"
            ],
            "text/markdown": [
              "\n",
              "A tibble: 5 x 3\n",
              "\n",
              "| bmi &lt;dbl&gt; | y &lt;dbl&gt; | .pred &lt;dbl&gt; |\n",
              "|---|---|---|\n",
              "|  0.06169621 | 151 | 216.1699 |\n",
              "|  0.04445121 | 141 | 198.9894 |\n",
              "| -0.04069594 |  97 | 114.1605 |\n",
              "| -0.04716281 | 138 | 107.7178 |\n",
              "| -0.01806189 | 168 | 136.7100 |\n",
              "\n"
            ],
            "text/plain": [
              "  bmi         y   .pred   \n",
              "1  0.06169621 151 216.1699\n",
              "2  0.04445121 141 198.9894\n",
              "3 -0.04069594  97 114.1605\n",
              "4 -0.04716281 138 107.7178\n",
              "5 -0.01806189 168 136.7100"
            ]
          },
          "metadata": {},
          "output_type": "display_data"
        }
      ],
      "source": [
        "# Combine the predictions and the original test set\n",
        "results <- diabetes_test %>%\n",
        "  bind_cols(predictions)\n",
        "\n",
        "\n",
        "results %>%\n",
        "  slice(1:5)"
      ]
    },
    {
      "cell_type": "markdown",
      "metadata": {
        "id": "XJbYbMZW_n_s"
      },
      "source": [
        "## 6. Plot modelling results\n",
        "\n",
        "Now, its time to see this visually 📈. We'll create a scatter plot of all the `y` and `bmi` values of the test set, then use the predictions to draw a line in the most appropriate place, between the model's data groupings.\n",
        "\n",
        "R has several systems for making graphs, but `ggplot2` is one of the most elegant and most versatile. This allows you to compose graphs by **combining independent components**."
      ]
    },
    {
      "cell_type": "code",
      "execution_count": 11,
      "metadata": {
        "id": "R9tYp3VW_sTn",
        "vscode": {
          "languageId": "r"
        }
      },
      "outputs": [
        {
          "name": "stderr",
          "output_type": "stream",
          "text": [
            "Warning message:\n",
            "\"\u001b[1m\u001b[22mUsing `size` aesthetic for lines was deprecated in ggplot2 3.4.0.\n",
            "\u001b[36mi\u001b[39m Please use `linewidth` instead.\"\n"
          ]
        },
        {
          "data": {
            "image/png": "[encoded data removed]",
            "text/plain": [
              "plot without title"
            ]
          },
          "metadata": {
            "image/png": {
              "height": 420,
              "width": 420
            }
          },
          "output_type": "display_data"
        }
      ],
      "source": [
        "# Set a theme for the plot\n",
        "theme_set(theme_light())\n",
        "# Create a scatter plot\n",
        "results %>%\n",
        "  ggplot(aes(x = bmi)) +\n",
        "  # Add a scatter plot\n",
        "  geom_point(aes(y = y), size = 1.6) +\n",
        "  # Add a line plot\n",
        "  geom_line(aes(y = .pred), color = \"blue\", size = 1.5)"
      ]
    },
    {
      "cell_type": "markdown",
      "metadata": {
        "id": "zrPtHIxx_tNI"
      },
      "source": [
        "> ✅ Think a bit about what's going on here. A straight line is running through many small dots of data, but what is it doing exactly? Can you see how you should be able to use this line to predict where a new, unseen data point should fit in relationship to the plot's y axis? Try to put into words the practical use of this model.\n",
        "\n",
        "Congratulations, you built your first linear regression model, created a prediction with it, and displayed it in a plot!\n"
      ]
    }
  ],
  "metadata": {
    "colab": {
      "collapsed_sections": [],
      "name": "lesson_1-R.ipynb",
      "provenance": [],
      "toc_visible": true
    },
    "kernelspec": {
      "display_name": "R",
      "language": "R",
      "name": "ir"
    },
    "language_info": {
      "codemirror_mode": "r",
      "file_extension": ".r",
      "mimetype": "text/x-r-source",
      "name": "R",
      "pygments_lexer": "r",
      "version": "4.3.0"
    }
  },
  "nbformat": 4,
  "nbformat_minor": 2
}
